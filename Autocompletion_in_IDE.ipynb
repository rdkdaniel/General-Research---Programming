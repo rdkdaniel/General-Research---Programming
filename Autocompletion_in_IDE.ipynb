{
  "nbformat": 4,
  "nbformat_minor": 0,
  "metadata": {
    "colab": {
      "name": "Autocompletion in IDE",
      "provenance": [],
      "authorship_tag": "ABX9TyPdh+0DdNXI+TYA0sM/1XLI",
      "include_colab_link": true
    },
    "kernelspec": {
      "name": "python3",
      "display_name": "Python 3"
    },
    "language_info": {
      "name": "python"
    }
  },
  "cells": [
    {
      "cell_type": "markdown",
      "metadata": {
        "id": "view-in-github",
        "colab_type": "text"
      },
      "source": [
        "<a href=\"https://colab.research.google.com/github/rdkdaniel/General-Research---Programming/blob/main/Autocompletion_in_IDE.ipynb\" target=\"_parent\"><img src=\"https://colab.research.google.com/assets/colab-badge.svg\" alt=\"Open In Colab\"/></a>"
      ]
    },
    {
      "cell_type": "markdown",
      "source": [
        "Key links: https://softwareengineering.stackexchange.com/questions/408680/what-do-ides-use-to-do-code-completion-suggestions\n",
        "\n",
        "Key links: https://codesignal.com/blog/engineering/how-we-support-autocompletion/"
      ],
      "metadata": {
        "id": "4NAcosJAP2oN"
      }
    },
    {
      "cell_type": "code",
      "execution_count": 1,
      "metadata": {
        "id": "xqqqFEKyPrVc"
      },
      "outputs": [],
      "source": [
        "#What do IDEs use to do code completion suggestions?\n",
        "#How we support autocompletion for 25+ languages in CodeSignal’s IDE"
      ]
    },
    {
      "cell_type": "code",
      "source": [],
      "metadata": {
        "id": "SUV43482QKqn"
      },
      "execution_count": null,
      "outputs": []
    }
  ]
}