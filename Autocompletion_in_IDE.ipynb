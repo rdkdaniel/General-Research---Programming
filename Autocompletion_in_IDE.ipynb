{
  "nbformat": 4,
  "nbformat_minor": 0,
  "metadata": {
    "colab": {
      "name": "Autocompletion in IDE",
      "provenance": [],
      "authorship_tag": "ABX9TyPg2NbsK1Tpo7Rf796PL23T",
      "include_colab_link": true
    },
    "kernelspec": {
      "name": "python3",
      "display_name": "Python 3"
    },
    "language_info": {
      "name": "python"
    }
  },
  "cells": [
    {
      "cell_type": "markdown",
      "metadata": {
        "id": "view-in-github",
        "colab_type": "text"
      },
      "source": [
        "<a href=\"https://colab.research.google.com/github/rdkdaniel/General-Research---Programming/blob/main/Autocompletion_in_IDE.ipynb\" target=\"_parent\"><img src=\"https://colab.research.google.com/assets/colab-badge.svg\" alt=\"Open In Colab\"/></a>"
      ]
    },
    {
      "cell_type": "markdown",
      "source": [
        "Key links: https://softwareengineering.stackexchange.com/questions/408680/what-do-ides-use-to-do-code-completion-suggestions\n",
        "\n",
        "Key links for autocomplete in cloud: https://codesignal.com/blog/engineering/how-we-support-autocompletion/"
      ],
      "metadata": {
        "id": "4NAcosJAP2oN"
      }
    },
    {
      "cell_type": "code",
      "execution_count": null,
      "metadata": {
        "id": "xqqqFEKyPrVc"
      },
      "outputs": [],
      "source": [
        "#What do IDEs use to do code completion suggestions?\n",
        "#How we support autocompletion for 25+ languages in CodeSignal’s IDE"
      ]
    },
    {
      "cell_type": "code",
      "source": [
        "#At a high-level view, IDEs contain a compiler. \n",
        "#Well, most parts of a compiler\n",
        "#IDE does not need all the parts, in particular, code generation or optimization.\n",
        "#However, the rest is there, lexing, parsing, semantic analysis, type inference, type checking, macro expansion, symbol resolution, etc."
      ],
      "metadata": {
        "id": "SUV43482QKqn"
      },
      "execution_count": null,
      "outputs": []
    },
    {
      "cell_type": "code",
      "source": [
        "#From the information gleaned from this analysis, the IDE constructs a semantic model of the code\n",
        "#Then when it encounters incomplete code, it uses sufficiently advanced 'magic' to figure out how best to complete it."
      ],
      "metadata": {
        "id": "U3lBFhiLX0ml"
      },
      "execution_count": null,
      "outputs": []
    },
    {
      "cell_type": "code",
      "source": [
        "#Because of the code duplication between IDEs and compilers, in recent years, there have been efforts to integrate the two.\n",
        "#E.g. Microsoft's Roslyn compiler for C# and Visual Basic.NET was explicitly designed with APIs that allow an IDE to access all the required information. \n",
        "#Likewise, the nsc (New Scala Compiler) and dotc compilers for Scala, and the Clang compiler for C / C++ have APIs for embedding into an IDE."
      ],
      "metadata": {
        "id": "DAsRDDn2YDiA"
      },
      "execution_count": null,
      "outputs": []
    }
  ]
}